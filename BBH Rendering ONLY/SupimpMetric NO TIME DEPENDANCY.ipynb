{
 "cells": [
  {
   "cell_type": "markdown",
   "id": "dfda78e8",
   "metadata": {},
   "source": [
    "https://ntrs.nasa.gov/api/citations/20210024967/downloads/Superposed%20metric%20for%20spinning%20black%20hole%20binaries%20approaching%20merger--paper.pdf\n",
    "\n",
    "## Defining each component with basic superimposition of BBH"
   ]
  },
  {
   "cell_type": "code",
   "execution_count": 1,
   "id": "ac7d80e3",
   "metadata": {},
   "outputs": [],
   "source": [
    "import sympy as sp\n",
    "def getMetric(expr, coordSystem=\"Cartesian\", subs=None, overrideConst = False): #the override lets the code run faster if you know for sure your line element will work out\n",
    "    if coordSystem not in [\"Cartesian\", \"PlanePolar\", \"SphericalPolar\", \"CylindricalPolar\"]:\n",
    "        raise ValueError(\"Unknown coordinate system\")\n",
    "\n",
    "    lineElement=sp.expand(lineElement)\n",
    "    coords = (t, x, y, z)\n",
    "\n",
    "    dim = len(coords)\n",
    "    g = sp.zeros(dim)\n",
    "\n",
    "    for mu in range(dim):\n",
    "        for nu in range(dim):\n",
    "            coeff = lineElement.coeff(sp.diff(coords[mu]) * sp.diff(coords[nu]))\n",
    "            if mu != nu and coeff != 0:\n",
    "                g[mu, nu] = coeff.subs(subs) / 2\n",
    "            else:\n",
    "                g[mu, nu] = coeff.subs(subs)\n",
    "                \n",
    "    # Check for unexpected terms in the line element\n",
    "    if not overrideConst:\n",
    "        reconstructed_line_element = sum(g[i, j] * sp.diff(coords[i]) * sp.diff(coords[j]) for i in range(dim) for j in range(dim))\n",
    "        if sp.simplify(lineElement.subs(subs) - reconstructed_line_element) != 0:\n",
    "            raise ValueError(\"Line element contains terms that are not pure differentials of the coordinates used\")\n",
    "    return g"
   ]
  },
  {
   "cell_type": "code",
   "execution_count": 6,
   "id": "8042752d",
   "metadata": {},
   "outputs": [
    {
     "data": {
      "text/latex": [
       "$\\displaystyle \\frac{2 M_{1} k^{1}_{\\mu} k^{1}_{\\nu} r_{1}}{a_{1}^{2} + r_{1}^{2}} + \\frac{2 M_{2} k^{2}_{\\mu} k^{2}_{\\nu} r_{2}}{a_{2}^{2} + r_{2}^{2}} + \\eta_{\\mu \\nu}$"
      ],
      "text/plain": [
       "2*M_1*k_mu^1*k_nu^1*r_1/(a_1**2 + r_1**2) + 2*M_2*k_mu^2*k_nu^2*r_2/(a_2**2 + r_2**2) + eta_mu_nu"
      ]
     },
     "metadata": {},
     "output_type": "display_data"
    }
   ],
   "source": [
    "theta, mink, lam = sp.symbols(\"theta, eta_mu_nu, lambda\") #although theta is currently being omitted (cos^2 theta => 1)\n",
    "M1, a1, km1, kn1, S1 = sp.symbols(\"M_1, a_1, k_mu^1, k_nu^1 S_1\")\n",
    "M2, a2, km2, kn2, S2 = sp.symbols(\"M_2, a_2, k_mu^2, k_nu^2 S_2\")\n",
    "#starting pos\n",
    "x1,y1,z1,r1=sp.symbols(\"x_1, y_1, z_1, r_1\")\n",
    "x2,y2,z2,r2=sp.symbols(\"x_2, y_2, z_2, r_2\")\n",
    "#from wave model\n",
    "ch1,ch2,q=sp.symbols(\"chi_1, chi_2, q\")\n",
    "\n",
    "t = sp.Function('t')(lam)\n",
    "x = sp.Function('x')(lam)\n",
    "y = sp.Function('y')(lam)\n",
    "z = sp.Function('z')(lam)\n",
    "\n",
    "dt=sp.diff(t)\n",
    "dx=sp.diff(x)\n",
    "dy=sp.diff(y)\n",
    "dz=sp.diff(z)\n",
    "\n",
    "expr = mink+2*((M1*r1/(r1**2+a1**2)*km1*kn1)+(M2*r2/(r2**2+a2**2)*km2*kn2))\n",
    "display(expr)\n",
    "\n",
    "# order of substitutions matter!!!\n",
    "subs= [\n",
    "    (km1, )\n",
    "    (rs, 2*G*M/(c**2))\n",
    "]\n",
    "\n",
    "# metric=getMetric(lineElement, \"Cartesian\", subs)\n",
    "# metric"
   ]
  }
 ],
 "metadata": {
  "kernelspec": {
   "display_name": "Python 3 (ipykernel)",
   "language": "python",
   "name": "python3"
  },
  "language_info": {
   "codemirror_mode": {
    "name": "ipython",
    "version": 3
   },
   "file_extension": ".py",
   "mimetype": "text/x-python",
   "name": "python",
   "nbconvert_exporter": "python",
   "pygments_lexer": "ipython3",
   "version": "3.11.5"
  }
 },
 "nbformat": 4,
 "nbformat_minor": 5
}
