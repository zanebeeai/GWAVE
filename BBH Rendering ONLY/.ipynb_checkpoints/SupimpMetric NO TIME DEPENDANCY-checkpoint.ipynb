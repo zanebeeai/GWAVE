{
 "cells": [
  {
   "cell_type": "markdown",
   "id": "0b54216e",
   "metadata": {},
   "source": [
    "https://ntrs.nasa.gov/api/citations/20210024967/downloads/Superposed%20metric%20for%20spinning%20black%20hole%20binaries%20approaching%20merger--paper.pdf\n",
    "\n",
    "## Defining each component with basic superimposition of BBH"
   ]
  },
  {
   "cell_type": "code",
   "execution_count": 1,
   "id": "0ae90772",
   "metadata": {},
   "outputs": [],
   "source": [
    "import sympy as sp\n",
    "def getMetric(expr, coordSystem=\"Cartesian\", subs=None, overrideConst = False): #the override lets the code run faster if you know for sure your line element will work out\n",
    "    if coordSystem not in [\"Cartesian\", \"PlanePolar\", \"SphericalPolar\", \"CylindricalPolar\"]:\n",
    "        raise ValueError(\"Unknown coordinate system\")\n",
    "\n",
    "    lineElement=sp.expand(lineElement)\n",
    "    coords = (t, x, y, z)\n",
    "\n",
    "    dim = len(coords)\n",
    "    g = sp.zeros(dim)\n",
    "\n",
    "    for mu in range(dim):\n",
    "        for nu in range(dim):\n",
    "            coeff = lineElement.coeff(sp.diff(coords[mu]) * sp.diff(coords[nu]))\n",
    "            if mu != nu and coeff != 0:\n",
    "                g[mu, nu] = coeff.subs(subs) / 2\n",
    "            else:\n",
    "                g[mu, nu] = coeff.subs(subs)\n",
    "                \n",
    "    # Check for unexpected terms in the line element\n",
    "    if not overrideConst:\n",
    "        reconstructed_line_element = sum(g[i, j] * sp.diff(coords[i]) * sp.diff(coords[j]) for i in range(dim) for j in range(dim))\n",
    "        if sp.simplify(lineElement.subs(subs) - reconstructed_line_element) != 0:\n",
    "            raise ValueError(\"Line element contains terms that are not pure differentials of the coordinates used\")\n",
    "    return g"
   ]
  },
  {
   "cell_type": "code",
   "execution_count": 5,
   "id": "b39ae142",
   "metadata": {},
   "outputs": [
    {
     "ename": "NameError",
     "evalue": "name 'lam' is not defined",
     "output_type": "error",
     "traceback": [
      "\u001b[1;31m---------------------------------------------------------------------------\u001b[0m",
      "\u001b[1;31mNameError\u001b[0m                                 Traceback (most recent call last)",
      "Cell \u001b[1;32mIn[5], line 10\u001b[0m\n\u001b[0;32m      7\u001b[0m \u001b[38;5;66;03m#from wave model\u001b[39;00m\n\u001b[0;32m      8\u001b[0m ch1,ch2,q\u001b[38;5;241m=\u001b[39msp\u001b[38;5;241m.\u001b[39msymbols(\u001b[38;5;124m\"\u001b[39m\u001b[38;5;124mchi_1, chi_2, q\u001b[39m\u001b[38;5;124m\"\u001b[39m)\n\u001b[1;32m---> 10\u001b[0m t \u001b[38;5;241m=\u001b[39m sp\u001b[38;5;241m.\u001b[39mFunction(\u001b[38;5;124m'\u001b[39m\u001b[38;5;124mt\u001b[39m\u001b[38;5;124m'\u001b[39m)(lam)\n\u001b[0;32m     11\u001b[0m x \u001b[38;5;241m=\u001b[39m sp\u001b[38;5;241m.\u001b[39mFunction(\u001b[38;5;124m'\u001b[39m\u001b[38;5;124mx\u001b[39m\u001b[38;5;124m'\u001b[39m)(lam)\n\u001b[0;32m     12\u001b[0m y \u001b[38;5;241m=\u001b[39m sp\u001b[38;5;241m.\u001b[39mFunction(\u001b[38;5;124m'\u001b[39m\u001b[38;5;124my\u001b[39m\u001b[38;5;124m'\u001b[39m)(lam)\n",
      "\u001b[1;31mNameError\u001b[0m: name 'lam' is not defined"
     ]
    }
   ],
   "source": [
    "theta, mink, lam = sp.symbols(\"theta, eta_mu_nu, lambda\") #although theta is currently being omitted (cos^2 theta => 1)\n",
    "M1, a1, km1, kn1, S1 = sp.symbols(\"M_1, a_1, k_mu^1, k_nu^1 S_1\")\n",
    "M2, a2, km2, kn2, S2 = sp.symbols(\"M_2, a_2, k_mu^2, k_nu^2 S_2\")\n",
    "#starting pos\n",
    "x1,y1,z1,r1=sp.symbols(\"x_1, y_1, z_1, r_1\")\n",
    "x2,y2,z2,r2=sp.symbols(\"x_2, y_2, z_2, r_2\")\n",
    "#from wave model\n",
    "ch1,ch2,q=sp.symbols(\"chi_1, chi_2, q\")\n",
    "\n",
    "t = sp.Function('t')(lam)\n",
    "x = sp.Function('x')(lam)\n",
    "y = sp.Function('y')(lam)\n",
    "z = sp.Function('z')(lam)\n",
    "\n",
    "dt=sp.diff(t)\n",
    "dx=sp.diff(x)\n",
    "dy=sp.diff(y)\n",
    "dz=sp.diff(z)\n",
    "\n",
    "expr = mink+2*((M1*r1/(r1**2+a1**2)*km1*kn1)+(M2*r2/(r2**2+a2**2)*km2*kn2))\n",
    "display(expr)\n",
    "\n",
    "# order of substitutions matter!!!\n",
    "# subs= [\n",
    "#     (R, sp.sqrt(x**2+y**2+z**2)),\n",
    "#     (rs, 2*G*M/(c**2))\n",
    "# ]\n",
    "\n",
    "# metric=getMetric(lineElement, \"Cartesian\", subs)\n",
    "# metric"
   ]
  }
 ],
 "metadata": {
  "kernelspec": {
   "display_name": "Python 3 (ipykernel)",
   "language": "python",
   "name": "python3"
  },
  "language_info": {
   "codemirror_mode": {
    "name": "ipython",
    "version": 3
   },
   "file_extension": ".py",
   "mimetype": "text/x-python",
   "name": "python",
   "nbconvert_exporter": "python",
   "pygments_lexer": "ipython3",
   "version": "3.11.5"
  }
 },
 "nbformat": 4,
 "nbformat_minor": 5
}
